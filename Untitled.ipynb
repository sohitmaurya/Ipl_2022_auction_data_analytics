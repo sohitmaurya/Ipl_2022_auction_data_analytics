{
 "cells": [
  {
   "cell_type": "code",
   "execution_count": 1,
   "id": "8b322768",
   "metadata": {},
   "outputs": [],
   "source": [
    "import numpy as np\n",
    "import pandas as pd\n",
    "import matplotlib.pyplot as plt\n",
    "import seaborn as sns"
   ]
  },
  {
   "cell_type": "code",
   "execution_count": 2,
   "id": "60e4900e",
   "metadata": {},
   "outputs": [],
   "source": [
    "df = pd.read_csv(\"IPL_Auction_2022_FullList.csv\")"
   ]
  },
  {
   "cell_type": "code",
   "execution_count": 3,
   "id": "799aa4ce",
   "metadata": {},
   "outputs": [
    {
     "data": {
      "text/html": [
       "<div>\n",
       "<style scoped>\n",
       "    .dataframe tbody tr th:only-of-type {\n",
       "        vertical-align: middle;\n",
       "    }\n",
       "\n",
       "    .dataframe tbody tr th {\n",
       "        vertical-align: top;\n",
       "    }\n",
       "\n",
       "    .dataframe thead th {\n",
       "        text-align: right;\n",
       "    }\n",
       "</style>\n",
       "<table border=\"1\" class=\"dataframe\">\n",
       "  <thead>\n",
       "    <tr style=\"text-align: right;\">\n",
       "      <th></th>\n",
       "      <th>Set No.</th>\n",
       "      <th>Set Name</th>\n",
       "      <th>Player</th>\n",
       "      <th>Country</th>\n",
       "      <th>State Association</th>\n",
       "      <th>Age</th>\n",
       "      <th>Specialism</th>\n",
       "      <th>Batting</th>\n",
       "      <th>Bowling</th>\n",
       "      <th>IPL</th>\n",
       "      <th>Previous IPLTeam(s)</th>\n",
       "      <th>2021 Team</th>\n",
       "      <th>C/U/A</th>\n",
       "      <th>Base Price</th>\n",
       "      <th>Sold Price</th>\n",
       "      <th>New Franchise</th>\n",
       "      <th>Bid</th>\n",
       "    </tr>\n",
       "  </thead>\n",
       "  <tbody>\n",
       "    <tr>\n",
       "      <th>0</th>\n",
       "      <td>1</td>\n",
       "      <td>M</td>\n",
       "      <td>Trent Boult</td>\n",
       "      <td>New Zealand</td>\n",
       "      <td>NaN</td>\n",
       "      <td>32</td>\n",
       "      <td>BOWLER</td>\n",
       "      <td>RHB</td>\n",
       "      <td>LEFT ARM Fast Medium</td>\n",
       "      <td>62.0</td>\n",
       "      <td>SRH, KKR, DD,MI</td>\n",
       "      <td>MI</td>\n",
       "      <td>Capped</td>\n",
       "      <td>200</td>\n",
       "      <td>8 CR</td>\n",
       "      <td>Rajasthan Royals</td>\n",
       "      <td>Sold</td>\n",
       "    </tr>\n",
       "    <tr>\n",
       "      <th>1</th>\n",
       "      <td>1</td>\n",
       "      <td>M</td>\n",
       "      <td>Pat Cummins</td>\n",
       "      <td>Australia</td>\n",
       "      <td>NaN</td>\n",
       "      <td>28</td>\n",
       "      <td>ALL-ROUNDER</td>\n",
       "      <td>RHB</td>\n",
       "      <td>RIGHT ARM Fast</td>\n",
       "      <td>37.0</td>\n",
       "      <td>DD, MI, KKR</td>\n",
       "      <td>KKR</td>\n",
       "      <td>Capped</td>\n",
       "      <td>200</td>\n",
       "      <td>7.25 CR</td>\n",
       "      <td>Kolkata Knight Riders</td>\n",
       "      <td>Sold</td>\n",
       "    </tr>\n",
       "    <tr>\n",
       "      <th>2</th>\n",
       "      <td>1</td>\n",
       "      <td>M</td>\n",
       "      <td>Shikhar Dhawan</td>\n",
       "      <td>India</td>\n",
       "      <td>DDCA</td>\n",
       "      <td>36</td>\n",
       "      <td>BATSMAN</td>\n",
       "      <td>LHB</td>\n",
       "      <td>-</td>\n",
       "      <td>192.0</td>\n",
       "      <td>DCH, MI, SRH, DC</td>\n",
       "      <td>DC</td>\n",
       "      <td>Capped</td>\n",
       "      <td>200</td>\n",
       "      <td>8.25 CR</td>\n",
       "      <td>Punjab Kings</td>\n",
       "      <td>Sold</td>\n",
       "    </tr>\n",
       "    <tr>\n",
       "      <th>3</th>\n",
       "      <td>1</td>\n",
       "      <td>M</td>\n",
       "      <td>Shreyas Iyer</td>\n",
       "      <td>India</td>\n",
       "      <td>MCA</td>\n",
       "      <td>27</td>\n",
       "      <td>BATSMAN</td>\n",
       "      <td>RHB</td>\n",
       "      <td>RIGHT ARM Leg Spin</td>\n",
       "      <td>87.0</td>\n",
       "      <td>DC</td>\n",
       "      <td>DC</td>\n",
       "      <td>Capped</td>\n",
       "      <td>200</td>\n",
       "      <td>12.25 CR</td>\n",
       "      <td>Kolkata Knight Riders</td>\n",
       "      <td>Sold</td>\n",
       "    </tr>\n",
       "    <tr>\n",
       "      <th>4</th>\n",
       "      <td>1</td>\n",
       "      <td>M</td>\n",
       "      <td>Kagiso Rabada</td>\n",
       "      <td>South Africa</td>\n",
       "      <td>NaN</td>\n",
       "      <td>26</td>\n",
       "      <td>BOWLER</td>\n",
       "      <td>LHB</td>\n",
       "      <td>RIGHT ARM Fast</td>\n",
       "      <td>50.0</td>\n",
       "      <td>DC</td>\n",
       "      <td>DC</td>\n",
       "      <td>Capped</td>\n",
       "      <td>200</td>\n",
       "      <td>9.25 CR</td>\n",
       "      <td>Punjab Kings</td>\n",
       "      <td>Sold</td>\n",
       "    </tr>\n",
       "  </tbody>\n",
       "</table>\n",
       "</div>"
      ],
      "text/plain": [
       "   Set No. Set Name          Player       Country State Association  Age  \\\n",
       "0        1        M     Trent Boult   New Zealand               NaN   32   \n",
       "1        1        M     Pat Cummins     Australia               NaN   28   \n",
       "2        1        M  Shikhar Dhawan         India              DDCA   36   \n",
       "3        1        M    Shreyas Iyer         India               MCA   27   \n",
       "4        1        M   Kagiso Rabada  South Africa               NaN   26   \n",
       "\n",
       "    Specialism Batting               Bowling    IPL Previous IPLTeam(s)  \\\n",
       "0       BOWLER     RHB  LEFT ARM Fast Medium   62.0     SRH, KKR, DD,MI   \n",
       "1  ALL-ROUNDER     RHB        RIGHT ARM Fast   37.0         DD, MI, KKR   \n",
       "2      BATSMAN     LHB                     -  192.0    DCH, MI, SRH, DC   \n",
       "3      BATSMAN     RHB    RIGHT ARM Leg Spin   87.0                  DC   \n",
       "4       BOWLER     LHB        RIGHT ARM Fast   50.0                  DC   \n",
       "\n",
       "  2021 Team   C/U/A  Base Price Sold Price          New Franchise   Bid  \n",
       "0        MI  Capped         200       8 CR       Rajasthan Royals  Sold  \n",
       "1       KKR  Capped         200    7.25 CR  Kolkata Knight Riders  Sold  \n",
       "2        DC  Capped         200    8.25 CR           Punjab Kings  Sold  \n",
       "3        DC  Capped         200   12.25 CR  Kolkata Knight Riders  Sold  \n",
       "4        DC  Capped         200    9.25 CR           Punjab Kings  Sold  "
      ]
     },
     "execution_count": 3,
     "metadata": {},
     "output_type": "execute_result"
    }
   ],
   "source": [
    "df.head()"
   ]
  },
  {
   "cell_type": "code",
   "execution_count": 4,
   "id": "62a255bc",
   "metadata": {},
   "outputs": [
    {
     "name": "stdout",
     "output_type": "stream",
     "text": [
      "<class 'pandas.core.frame.DataFrame'>\n",
      "RangeIndex: 589 entries, 0 to 588\n",
      "Data columns (total 17 columns):\n",
      " #   Column               Non-Null Count  Dtype  \n",
      "---  ------               --------------  -----  \n",
      " 0   Set No.              589 non-null    int64  \n",
      " 1   Set Name             589 non-null    object \n",
      " 2   Player               589 non-null    object \n",
      " 3   Country              589 non-null    object \n",
      " 4   State Association    369 non-null    object \n",
      " 5   Age                  589 non-null    int64  \n",
      " 6   Specialism           589 non-null    object \n",
      " 7   Batting              589 non-null    object \n",
      " 8   Bowling              589 non-null    object \n",
      " 9   IPL                  270 non-null    float64\n",
      " 10  Previous IPLTeam(s)  265 non-null    object \n",
      " 11  2021 Team            165 non-null    object \n",
      " 12  C/U/A                589 non-null    object \n",
      " 13  Base Price           589 non-null    int64  \n",
      " 14  Sold Price           204 non-null    object \n",
      " 15  New Franchise        204 non-null    object \n",
      " 16  Bid                  589 non-null    object \n",
      "dtypes: float64(1), int64(3), object(13)\n",
      "memory usage: 78.4+ KB\n"
     ]
    }
   ],
   "source": [
    "df.info()"
   ]
  },
  {
   "cell_type": "code",
   "execution_count": 5,
   "id": "ec2e1dd3",
   "metadata": {},
   "outputs": [
    {
     "data": {
      "text/html": [
       "<div>\n",
       "<style scoped>\n",
       "    .dataframe tbody tr th:only-of-type {\n",
       "        vertical-align: middle;\n",
       "    }\n",
       "\n",
       "    .dataframe tbody tr th {\n",
       "        vertical-align: top;\n",
       "    }\n",
       "\n",
       "    .dataframe thead th {\n",
       "        text-align: right;\n",
       "    }\n",
       "</style>\n",
       "<table border=\"1\" class=\"dataframe\">\n",
       "  <thead>\n",
       "    <tr style=\"text-align: right;\">\n",
       "      <th></th>\n",
       "      <th>Set No.</th>\n",
       "      <th>Age</th>\n",
       "      <th>IPL</th>\n",
       "      <th>Base Price</th>\n",
       "    </tr>\n",
       "  </thead>\n",
       "  <tbody>\n",
       "    <tr>\n",
       "      <th>count</th>\n",
       "      <td>589.000000</td>\n",
       "      <td>589.000000</td>\n",
       "      <td>270.000000</td>\n",
       "      <td>589.000000</td>\n",
       "    </tr>\n",
       "    <tr>\n",
       "      <th>mean</th>\n",
       "      <td>32.096774</td>\n",
       "      <td>26.955857</td>\n",
       "      <td>29.425926</td>\n",
       "      <td>51.926995</td>\n",
       "    </tr>\n",
       "    <tr>\n",
       "      <th>std</th>\n",
       "      <td>17.890516</td>\n",
       "      <td>4.690208</td>\n",
       "      <td>42.904494</td>\n",
       "      <td>53.467166</td>\n",
       "    </tr>\n",
       "    <tr>\n",
       "      <th>min</th>\n",
       "      <td>1.000000</td>\n",
       "      <td>17.000000</td>\n",
       "      <td>0.000000</td>\n",
       "      <td>20.000000</td>\n",
       "    </tr>\n",
       "    <tr>\n",
       "      <th>25%</th>\n",
       "      <td>17.000000</td>\n",
       "      <td>23.000000</td>\n",
       "      <td>1.000000</td>\n",
       "      <td>20.000000</td>\n",
       "    </tr>\n",
       "    <tr>\n",
       "      <th>50%</th>\n",
       "      <td>32.000000</td>\n",
       "      <td>27.000000</td>\n",
       "      <td>10.500000</td>\n",
       "      <td>20.000000</td>\n",
       "    </tr>\n",
       "    <tr>\n",
       "      <th>75%</th>\n",
       "      <td>48.000000</td>\n",
       "      <td>30.000000</td>\n",
       "      <td>38.750000</td>\n",
       "      <td>50.000000</td>\n",
       "    </tr>\n",
       "    <tr>\n",
       "      <th>max</th>\n",
       "      <td>62.000000</td>\n",
       "      <td>43.000000</td>\n",
       "      <td>213.000000</td>\n",
       "      <td>200.000000</td>\n",
       "    </tr>\n",
       "  </tbody>\n",
       "</table>\n",
       "</div>"
      ],
      "text/plain": [
       "          Set No.         Age         IPL  Base Price\n",
       "count  589.000000  589.000000  270.000000  589.000000\n",
       "mean    32.096774   26.955857   29.425926   51.926995\n",
       "std     17.890516    4.690208   42.904494   53.467166\n",
       "min      1.000000   17.000000    0.000000   20.000000\n",
       "25%     17.000000   23.000000    1.000000   20.000000\n",
       "50%     32.000000   27.000000   10.500000   20.000000\n",
       "75%     48.000000   30.000000   38.750000   50.000000\n",
       "max     62.000000   43.000000  213.000000  200.000000"
      ]
     },
     "execution_count": 5,
     "metadata": {},
     "output_type": "execute_result"
    }
   ],
   "source": [
    "df.describe()"
   ]
  },
  {
   "cell_type": "code",
   "execution_count": 6,
   "id": "4b41e8b0",
   "metadata": {},
   "outputs": [
    {
     "data": {
      "text/plain": [
       "Set No.                  0\n",
       "Set Name                 0\n",
       "Player                   0\n",
       "Country                  0\n",
       "State Association      220\n",
       "Age                      0\n",
       "Specialism               0\n",
       "Batting                  0\n",
       "Bowling                  0\n",
       "IPL                    319\n",
       "Previous IPLTeam(s)    324\n",
       "2021 Team              424\n",
       "C/U/A                    0\n",
       "Base Price               0\n",
       "Sold Price             385\n",
       "New Franchise          385\n",
       "Bid                      0\n",
       "dtype: int64"
      ]
     },
     "execution_count": 6,
     "metadata": {},
     "output_type": "execute_result"
    }
   ],
   "source": [
    "df.isnull().sum()"
   ]
  },
  {
   "cell_type": "markdown",
   "id": "85f03b4e",
   "metadata": {},
   "source": [
    "### Filling null values in the dataset"
   ]
  },
  {
   "cell_type": "code",
   "execution_count": 7,
   "id": "873f3103",
   "metadata": {},
   "outputs": [],
   "source": [
    "df['State Association'].fillna('F',inplace=True)\n",
    "df.IPL.fillna(0,inplace=True)\n",
    "df['Sold Price'].fillna('0 CR',inplace=True)\n",
    "df['Previous IPLTeam(s)'].fillna('Do No Play',inplace=True)\n",
    "df['2021 Team'].fillna('DNP',inplace=True)\n",
    "df['New Franchise'].fillna('Not Selected',inplace=True)"
   ]
  },
  {
   "cell_type": "markdown",
   "id": "bb5e525c",
   "metadata": {},
   "source": [
    "### Converting sold price column values to float from object by removing \"cr\""
   ]
  },
  {
   "cell_type": "code",
   "execution_count": 8,
   "id": "92688748",
   "metadata": {},
   "outputs": [],
   "source": [
    "def conv(item):\n",
    "    price=item.split()\n",
    "    if price[1]=='CR':\n",
    "        return float(price[0])*1000000\n",
    "    else:\n",
    "        return float(price[0])\n",
    "    \n",
    "df['Sold Price']=df['Sold Price'].apply(lambda i:conv(i))"
   ]
  },
  {
   "cell_type": "code",
   "execution_count": 9,
   "id": "57f2b685",
   "metadata": {},
   "outputs": [
    {
     "name": "stdout",
     "output_type": "stream",
     "text": [
      "The Total Amount Spent on Players Bidding is 513353466.9 Lacks\n",
      "The Total Number Of Players Sold is 204\n",
      "The number of Indian Players sold= 369\n",
      "The number of Overseas Players Sold= 220\n",
      "The Player with the highest price tag is Ishan Kishan and was brought by Mumbai Indians\n",
      "The overseas Player with the highest price tag is Liam Livingstone and was brought by Punjab Kings\n"
     ]
    }
   ],
   "source": [
    "print(\"The Total Amount Spent on Players Bidding is\",df['Sold Price'].sum(),\"Lacks\")\n",
    "print(\"The Total Number Of Players Sold is\",df[df.Bid=='Sold'].count()['Player'])\n",
    "print(\"The number of Indian Players sold=\",df[df.Country=='India'].count()['Player'])\n",
    "print(\"The number of Overseas Players Sold=\",df[df.Country!='India'].count()['Player'])\n",
    "print(\"The Player with the highest price tag is {} and was brought by {}\".format(df.sort_values(by='Sold Price',ascending=False)['Player'].head(1).to_string(index=False),df.sort_values(by='Sold Price',ascending=False)['New Franchise'].head(1).to_string(index=False)))\n",
    "print(\"The overseas Player with the highest price tag is {} and was brought by {}\".format(df[df.Country!='India'].sort_values(by='Sold Price',ascending=False)['Player'].head(1).to_string(index=False),df[df.Country!='India'].sort_values(by='Sold Price',ascending=False)['New Franchise'].head(1).to_string(index=False)))"
   ]
  },
  {
   "cell_type": "code",
   "execution_count": 10,
   "id": "c2d3ffef",
   "metadata": {},
   "outputs": [
    {
     "data": {
      "text/plain": [
       "Set No.                0\n",
       "IPL                    0\n",
       "New Franchise          0\n",
       "Sold Price             0\n",
       "Base Price             0\n",
       "C/U/A                  0\n",
       "2021 Team              0\n",
       "Previous IPLTeam(s)    0\n",
       "Bowling                0\n",
       "Set Name               0\n",
       "Batting                0\n",
       "Specialism             0\n",
       "Age                    0\n",
       "State Association      0\n",
       "Country                0\n",
       "Player                 0\n",
       "Bid                    0\n",
       "dtype: int64"
      ]
     },
     "execution_count": 10,
     "metadata": {},
     "output_type": "execute_result"
    }
   ],
   "source": [
    "df.isna().sum().sort_values(ascending=False)"
   ]
  },
  {
   "cell_type": "markdown",
   "id": "ff4eb126",
   "metadata": {},
   "source": [
    "### Correcting the wrong team names"
   ]
  },
  {
   "cell_type": "code",
   "execution_count": 11,
   "id": "9c713139",
   "metadata": {},
   "outputs": [],
   "source": [
    "df.replace('Luknow Super Giants','Lucknow Super Giants',inplace=True)\n",
    "df.replace('Gujarat Titan','Gujarat Titans',inplace=True)"
   ]
  },
  {
   "cell_type": "markdown",
   "id": "f4ab57fb",
   "metadata": {},
   "source": [
    "### List of teams with maximum number of new franchise"
   ]
  },
  {
   "cell_type": "code",
   "execution_count": 12,
   "id": "b88e10a0",
   "metadata": {},
   "outputs": [
    {
     "data": {
      "text/plain": [
       "Not Selected                   385\n",
       "Punjab Kings                    23\n",
       "Rajasthan Royals                21\n",
       "Kolkata Knight Riders           21\n",
       "Chennai Super Kings             21\n",
       "Mumbai Indians                  21\n",
       "Gujarat Titans                  20\n",
       "Delhi Capitals                  20\n",
       "Sunrisers Hyderabad             20\n",
       "Royal Challengers Bangalore     19\n",
       "Lucknow Super Giants            18\n",
       "Name: New Franchise, dtype: int64"
      ]
     },
     "execution_count": 12,
     "metadata": {},
     "output_type": "execute_result"
    }
   ],
   "source": [
    "df_franchise=df['New Franchise'].value_counts()\n",
    "df_franchise"
   ]
  },
  {
   "cell_type": "markdown",
   "id": "068feece",
   "metadata": {},
   "source": [
    "### What is the age group of most players?"
   ]
  },
  {
   "cell_type": "code",
   "execution_count": 13,
   "id": "5e65b5ae",
   "metadata": {},
   "outputs": [
    {
     "data": {
      "text/plain": [
       "<AxesSubplot:ylabel='Frequency'>"
      ]
     },
     "execution_count": 13,
     "metadata": {},
     "output_type": "execute_result"
    },
    {
     "data": {
      "image/png": "[encoded data removed]",
      "text/plain": [
       "<Figure size 432x288 with 1 Axes>"
      ]
     },
     "metadata": {
      "needs_background": "light"
     },
     "output_type": "display_data"
    }
   ],
   "source": [
    "df[['Age']].plot(kind='hist')"
   ]
  },
  {
   "cell_type": "markdown",
   "id": "d3ca3b85",
   "metadata": {},
   "source": [
    "##### Hence, we can see most players belongs to the age group of 25-30."
   ]
  },
  {
   "cell_type": "markdown",
   "id": "aa51d697",
   "metadata": {},
   "source": [
    "## Top countries with maximum number of players in IPL"
   ]
  },
  {
   "cell_type": "code",
   "execution_count": 14,
   "id": "7220a441",
   "metadata": {},
   "outputs": [
    {
     "data": {
      "text/plain": [
       "<AxesSubplot:>"
      ]
     },
     "execution_count": 14,
     "metadata": {},
     "output_type": "execute_result"
    },
    {
     "data": {
      "image/png": "[encoded data removed]",
      "text/plain": [
       "<Figure size 432x288 with 1 Axes>"
      ]
     },
     "metadata": {
      "needs_background": "light"
     },
     "output_type": "display_data"
    }
   ],
   "source": [
    "df_countries=df['Country'].value_counts().sort_values(ascending=False).head(20)\n",
    "df_countries.plot(kind='barh')"
   ]
  },
  {
   "cell_type": "markdown",
   "id": "f70b862d",
   "metadata": {},
   "source": [
    "## Players Purchased by different Teams"
   ]
  },
  {
   "cell_type": "code",
   "execution_count": 15,
   "id": "be020ce2",
   "metadata": {},
   "outputs": [
    {
     "data": {
      "text/plain": [
       "Text(0, 0.5, 'Franchise')"
      ]
     },
     "execution_count": 15,
     "metadata": {},
     "output_type": "execute_result"
    },
    {
     "data": {
      "image/png": "[encoded data removed]",
      "text/plain": [
       "<Figure size 432x288 with 1 Axes>"
      ]
     },
     "metadata": {
      "needs_background": "light"
     },
     "output_type": "display_data"
    }
   ],
   "source": [
    "df_franchise.sort_values().plot(kind='barh')\n",
    "plt.title(\"Players Purchased by different Teams\")\n",
    "plt.xlabel(\"Number of Players\")\n",
    "plt.ylabel(\"Franchise\")"
   ]
  },
  {
   "cell_type": "markdown",
   "id": "63c802cf",
   "metadata": {},
   "source": [
    "### Top 10 players bought in auction with most match appearances in IPL History"
   ]
  },
  {
   "cell_type": "code",
   "execution_count": 16,
   "id": "bc720a37",
   "metadata": {},
   "outputs": [
    {
     "data": {
      "text/plain": [
       "<AxesSubplot:title={'center':'Top 10 players bought in auction with most match appearances in IPL History'}, xlabel='Player', ylabel='IPL'>"
      ]
     },
     "execution_count": 16,
     "metadata": {},
     "output_type": "execute_result"
    },
    {
     "data": {
      "image/png": "[encoded data removed]",
      "text/plain": [
       "<Figure size 1296x360 with 1 Axes>"
      ]
     },
     "metadata": {
      "needs_background": "light"
     },
     "output_type": "display_data"
    }
   ],
   "source": [
    "plt.figure(figsize=(18,5))\n",
    "plt.title(\"Top 10 players bought in auction with most match appearances in IPL History\")\n",
    "sns.barplot(x=df.sort_values(by=['IPL'],ascending=False)['Player'].head(10),y=df.sort_values(by=['IPL'],ascending=False)['IPL'].head(10))"
   ]
  },
  {
   "cell_type": "markdown",
   "id": "50cbbc5c",
   "metadata": {},
   "source": [
    "## The top 5 costliest players bought by punjab kings"
   ]
  },
  {
   "cell_type": "code",
   "execution_count": 17,
   "id": "b7cf6576",
   "metadata": {},
   "outputs": [
    {
     "data": {
      "text/html": [
       "<div>\n",
       "<style scoped>\n",
       "    .dataframe tbody tr th:only-of-type {\n",
       "        vertical-align: middle;\n",
       "    }\n",
       "\n",
       "    .dataframe tbody tr th {\n",
       "        vertical-align: top;\n",
       "    }\n",
       "\n",
       "    .dataframe thead th {\n",
       "        text-align: right;\n",
       "    }\n",
       "</style>\n",
       "<table border=\"1\" class=\"dataframe\">\n",
       "  <thead>\n",
       "    <tr style=\"text-align: right;\">\n",
       "      <th></th>\n",
       "      <th>Player</th>\n",
       "      <th>Sold Price</th>\n",
       "    </tr>\n",
       "  </thead>\n",
       "  <tbody>\n",
       "    <tr>\n",
       "      <th>0</th>\n",
       "      <td>Liam Livingstone</td>\n",
       "      <td>11500000.0</td>\n",
       "    </tr>\n",
       "    <tr>\n",
       "      <th>1</th>\n",
       "      <td>Kagiso Rabada</td>\n",
       "      <td>9250000.0</td>\n",
       "    </tr>\n",
       "    <tr>\n",
       "      <th>2</th>\n",
       "      <td>Shahrukh Khan</td>\n",
       "      <td>9000000.0</td>\n",
       "    </tr>\n",
       "    <tr>\n",
       "      <th>3</th>\n",
       "      <td>Shikhar Dhawan</td>\n",
       "      <td>8250000.0</td>\n",
       "    </tr>\n",
       "    <tr>\n",
       "      <th>4</th>\n",
       "      <td>Jonny Bairstow</td>\n",
       "      <td>6750000.0</td>\n",
       "    </tr>\n",
       "  </tbody>\n",
       "</table>\n",
       "</div>"
      ],
      "text/plain": [
       "             Player  Sold Price\n",
       "0  Liam Livingstone  11500000.0\n",
       "1     Kagiso Rabada   9250000.0\n",
       "2     Shahrukh Khan   9000000.0\n",
       "3    Shikhar Dhawan   8250000.0\n",
       "4    Jonny Bairstow   6750000.0"
      ]
     },
     "execution_count": 17,
     "metadata": {},
     "output_type": "execute_result"
    }
   ],
   "source": [
    "df_pk=pd.DataFrame(df[df['New Franchise']=='Punjab Kings'].sort_values(by='Sold Price',ascending=False,ignore_index=True)[['Player','Sold Price']].head(5))\n",
    "df_pk"
   ]
  },
  {
   "cell_type": "markdown",
   "id": "73d12e00",
   "metadata": {},
   "source": [
    "## The top 5 costliest players bought by kolkata knight riders"
   ]
  },
  {
   "cell_type": "code",
   "execution_count": 18,
   "id": "8a28ecd4",
   "metadata": {},
   "outputs": [
    {
     "data": {
      "text/html": [
       "<div>\n",
       "<style scoped>\n",
       "    .dataframe tbody tr th:only-of-type {\n",
       "        vertical-align: middle;\n",
       "    }\n",
       "\n",
       "    .dataframe tbody tr th {\n",
       "        vertical-align: top;\n",
       "    }\n",
       "\n",
       "    .dataframe thead th {\n",
       "        text-align: right;\n",
       "    }\n",
       "</style>\n",
       "<table border=\"1\" class=\"dataframe\">\n",
       "  <thead>\n",
       "    <tr style=\"text-align: right;\">\n",
       "      <th></th>\n",
       "      <th>Player</th>\n",
       "      <th>Sold Price</th>\n",
       "    </tr>\n",
       "  </thead>\n",
       "  <tbody>\n",
       "    <tr>\n",
       "      <th>0</th>\n",
       "      <td>Shreyas Iyer</td>\n",
       "      <td>12250000.0</td>\n",
       "    </tr>\n",
       "    <tr>\n",
       "      <th>1</th>\n",
       "      <td>Nitish Rana</td>\n",
       "      <td>8000000.0</td>\n",
       "    </tr>\n",
       "    <tr>\n",
       "      <th>2</th>\n",
       "      <td>Pat Cummins</td>\n",
       "      <td>7250000.0</td>\n",
       "    </tr>\n",
       "    <tr>\n",
       "      <th>3</th>\n",
       "      <td>Shivam Mavi</td>\n",
       "      <td>7250000.0</td>\n",
       "    </tr>\n",
       "    <tr>\n",
       "      <th>4</th>\n",
       "      <td>Sam Billings</td>\n",
       "      <td>2000000.0</td>\n",
       "    </tr>\n",
       "  </tbody>\n",
       "</table>\n",
       "</div>"
      ],
      "text/plain": [
       "         Player  Sold Price\n",
       "0  Shreyas Iyer  12250000.0\n",
       "1   Nitish Rana   8000000.0\n",
       "2   Pat Cummins   7250000.0\n",
       "3   Shivam Mavi   7250000.0\n",
       "4  Sam Billings   2000000.0"
      ]
     },
     "execution_count": 18,
     "metadata": {},
     "output_type": "execute_result"
    }
   ],
   "source": [
    "pd.DataFrame(df[df['New Franchise']=='Kolkata Knight Riders'].sort_values(by='Sold Price',ascending=False,ignore_index=True)[['Player','Sold Price']].head(5))"
   ]
  },
  {
   "cell_type": "markdown",
   "id": "d4513931",
   "metadata": {},
   "source": [
    "### The Top 5 costliest players purchased by Lucknow Super Giants"
   ]
  },
  {
   "cell_type": "code",
   "execution_count": 19,
   "id": "127f80ec",
   "metadata": {},
   "outputs": [
    {
     "data": {
      "text/html": [
       "<div>\n",
       "<style scoped>\n",
       "    .dataframe tbody tr th:only-of-type {\n",
       "        vertical-align: middle;\n",
       "    }\n",
       "\n",
       "    .dataframe tbody tr th {\n",
       "        vertical-align: top;\n",
       "    }\n",
       "\n",
       "    .dataframe thead th {\n",
       "        text-align: right;\n",
       "    }\n",
       "</style>\n",
       "<table border=\"1\" class=\"dataframe\">\n",
       "  <thead>\n",
       "    <tr style=\"text-align: right;\">\n",
       "      <th></th>\n",
       "      <th>Player</th>\n",
       "      <th>Sold Price</th>\n",
       "    </tr>\n",
       "  </thead>\n",
       "  <tbody>\n",
       "    <tr>\n",
       "      <th>0</th>\n",
       "      <td>Avesh Khan</td>\n",
       "      <td>10000000.0</td>\n",
       "    </tr>\n",
       "    <tr>\n",
       "      <th>1</th>\n",
       "      <td>Jason Holder</td>\n",
       "      <td>8750000.0</td>\n",
       "    </tr>\n",
       "    <tr>\n",
       "      <th>2</th>\n",
       "      <td>Krunal Pandya</td>\n",
       "      <td>8250000.0</td>\n",
       "    </tr>\n",
       "    <tr>\n",
       "      <th>3</th>\n",
       "      <td>Mark Wood</td>\n",
       "      <td>7500000.0</td>\n",
       "    </tr>\n",
       "    <tr>\n",
       "      <th>4</th>\n",
       "      <td>Quinton De Kock</td>\n",
       "      <td>6750000.0</td>\n",
       "    </tr>\n",
       "  </tbody>\n",
       "</table>\n",
       "</div>"
      ],
      "text/plain": [
       "            Player  Sold Price\n",
       "0       Avesh Khan  10000000.0\n",
       "1     Jason Holder   8750000.0\n",
       "2    Krunal Pandya   8250000.0\n",
       "3        Mark Wood   7500000.0\n",
       "4  Quinton De Kock   6750000.0"
      ]
     },
     "execution_count": 19,
     "metadata": {},
     "output_type": "execute_result"
    }
   ],
   "source": [
    "pd.DataFrame(df[df['New Franchise']=='Lucknow Super Giants'].sort_values(by='Sold Price',ascending=False,ignore_index=True)[['Player','Sold Price']].head(5))"
   ]
  },
  {
   "cell_type": "markdown",
   "id": "8dce9839",
   "metadata": {},
   "source": [
    "### The Top 5 costliest players purchased by Royal Challengers Bangalore"
   ]
  },
  {
   "cell_type": "code",
   "execution_count": 20,
   "id": "2832d29a",
   "metadata": {},
   "outputs": [
    {
     "data": {
      "text/html": [
       "<div>\n",
       "<style scoped>\n",
       "    .dataframe tbody tr th:only-of-type {\n",
       "        vertical-align: middle;\n",
       "    }\n",
       "\n",
       "    .dataframe tbody tr th {\n",
       "        vertical-align: top;\n",
       "    }\n",
       "\n",
       "    .dataframe thead th {\n",
       "        text-align: right;\n",
       "    }\n",
       "</style>\n",
       "<table border=\"1\" class=\"dataframe\">\n",
       "  <thead>\n",
       "    <tr style=\"text-align: right;\">\n",
       "      <th></th>\n",
       "      <th>Player</th>\n",
       "      <th>Sold Price</th>\n",
       "    </tr>\n",
       "  </thead>\n",
       "  <tbody>\n",
       "    <tr>\n",
       "      <th>0</th>\n",
       "      <td>Wanindu Hasaranga</td>\n",
       "      <td>10750000.0</td>\n",
       "    </tr>\n",
       "    <tr>\n",
       "      <th>1</th>\n",
       "      <td>Harshal Patel</td>\n",
       "      <td>10750000.0</td>\n",
       "    </tr>\n",
       "    <tr>\n",
       "      <th>2</th>\n",
       "      <td>Josh Hazlewood</td>\n",
       "      <td>7750000.0</td>\n",
       "    </tr>\n",
       "    <tr>\n",
       "      <th>3</th>\n",
       "      <td>Faf Du Plessis</td>\n",
       "      <td>7000000.0</td>\n",
       "    </tr>\n",
       "    <tr>\n",
       "      <th>4</th>\n",
       "      <td>Dinesh Karthik</td>\n",
       "      <td>5500000.0</td>\n",
       "    </tr>\n",
       "  </tbody>\n",
       "</table>\n",
       "</div>"
      ],
      "text/plain": [
       "              Player  Sold Price\n",
       "0  Wanindu Hasaranga  10750000.0\n",
       "1      Harshal Patel  10750000.0\n",
       "2     Josh Hazlewood   7750000.0\n",
       "3     Faf Du Plessis   7000000.0\n",
       "4     Dinesh Karthik   5500000.0"
      ]
     },
     "execution_count": 20,
     "metadata": {},
     "output_type": "execute_result"
    }
   ],
   "source": [
    "pd.DataFrame(df[df['New Franchise']=='Royal Challengers Bangalore'].sort_values(by='Sold Price',ascending=False,ignore_index=True)[['Player','Sold Price']].head(5))"
   ]
  },
  {
   "cell_type": "markdown",
   "id": "106e938f",
   "metadata": {},
   "source": [
    "### The Top 5 costliest players purchased by Sunrisers Hyderabad"
   ]
  },
  {
   "cell_type": "code",
   "execution_count": 21,
   "id": "7f484b60",
   "metadata": {},
   "outputs": [
    {
     "data": {
      "text/html": [
       "<div>\n",
       "<style scoped>\n",
       "    .dataframe tbody tr th:only-of-type {\n",
       "        vertical-align: middle;\n",
       "    }\n",
       "\n",
       "    .dataframe tbody tr th {\n",
       "        vertical-align: top;\n",
       "    }\n",
       "\n",
       "    .dataframe thead th {\n",
       "        text-align: right;\n",
       "    }\n",
       "</style>\n",
       "<table border=\"1\" class=\"dataframe\">\n",
       "  <thead>\n",
       "    <tr style=\"text-align: right;\">\n",
       "      <th></th>\n",
       "      <th>Player</th>\n",
       "      <th>Sold Price</th>\n",
       "    </tr>\n",
       "  </thead>\n",
       "  <tbody>\n",
       "    <tr>\n",
       "      <th>0</th>\n",
       "      <td>Nicholas Pooran</td>\n",
       "      <td>10750000.0</td>\n",
       "    </tr>\n",
       "    <tr>\n",
       "      <th>1</th>\n",
       "      <td>Washington Sundar</td>\n",
       "      <td>8750000.0</td>\n",
       "    </tr>\n",
       "    <tr>\n",
       "      <th>2</th>\n",
       "      <td>Rahul Tripathi</td>\n",
       "      <td>8500000.0</td>\n",
       "    </tr>\n",
       "    <tr>\n",
       "      <th>3</th>\n",
       "      <td>Romario Shepherd</td>\n",
       "      <td>7750000.0</td>\n",
       "    </tr>\n",
       "    <tr>\n",
       "      <th>4</th>\n",
       "      <td>Abhishek Sharma</td>\n",
       "      <td>6500000.0</td>\n",
       "    </tr>\n",
       "  </tbody>\n",
       "</table>\n",
       "</div>"
      ],
      "text/plain": [
       "              Player  Sold Price\n",
       "0    Nicholas Pooran  10750000.0\n",
       "1  Washington Sundar   8750000.0\n",
       "2     Rahul Tripathi   8500000.0\n",
       "3   Romario Shepherd   7750000.0\n",
       "4    Abhishek Sharma   6500000.0"
      ]
     },
     "execution_count": 21,
     "metadata": {},
     "output_type": "execute_result"
    }
   ],
   "source": [
    "pd.DataFrame(df[df['New Franchise']=='Sunrisers Hyderabad'].sort_values(by='Sold Price',ascending=False,ignore_index=True)[['Player','Sold Price']].head(5))"
   ]
  },
  {
   "cell_type": "markdown",
   "id": "a66f8ed2",
   "metadata": {},
   "source": [
    "## The Top 5 costliest players purchased by Sunrisers Hyderabad"
   ]
  },
  {
   "cell_type": "code",
   "execution_count": 22,
   "id": "977bfdf5",
   "metadata": {},
   "outputs": [
    {
     "data": {
      "text/html": [
       "<div>\n",
       "<style scoped>\n",
       "    .dataframe tbody tr th:only-of-type {\n",
       "        vertical-align: middle;\n",
       "    }\n",
       "\n",
       "    .dataframe tbody tr th {\n",
       "        vertical-align: top;\n",
       "    }\n",
       "\n",
       "    .dataframe thead th {\n",
       "        text-align: right;\n",
       "    }\n",
       "</style>\n",
       "<table border=\"1\" class=\"dataframe\">\n",
       "  <thead>\n",
       "    <tr style=\"text-align: right;\">\n",
       "      <th></th>\n",
       "      <th>Player</th>\n",
       "      <th>Sold Price</th>\n",
       "    </tr>\n",
       "  </thead>\n",
       "  <tbody>\n",
       "    <tr>\n",
       "      <th>0</th>\n",
       "      <td>Ishan Kishan</td>\n",
       "      <td>15250000.0</td>\n",
       "    </tr>\n",
       "    <tr>\n",
       "      <th>1</th>\n",
       "      <td>Tim David</td>\n",
       "      <td>8250000.0</td>\n",
       "    </tr>\n",
       "    <tr>\n",
       "      <th>2</th>\n",
       "      <td>Jofra Archer</td>\n",
       "      <td>8000000.0</td>\n",
       "    </tr>\n",
       "    <tr>\n",
       "      <th>3</th>\n",
       "      <td>Dewald Brevis</td>\n",
       "      <td>3000000.0</td>\n",
       "    </tr>\n",
       "    <tr>\n",
       "      <th>4</th>\n",
       "      <td>Daniel Sams</td>\n",
       "      <td>2600000.0</td>\n",
       "    </tr>\n",
       "  </tbody>\n",
       "</table>\n",
       "</div>"
      ],
      "text/plain": [
       "          Player  Sold Price\n",
       "0   Ishan Kishan  15250000.0\n",
       "1      Tim David   8250000.0\n",
       "2   Jofra Archer   8000000.0\n",
       "3  Dewald Brevis   3000000.0\n",
       "4    Daniel Sams   2600000.0"
      ]
     },
     "execution_count": 22,
     "metadata": {},
     "output_type": "execute_result"
    }
   ],
   "source": [
    "pd.DataFrame(df[df['New Franchise']=='Mumbai Indians'].sort_values(by='Sold Price',ascending=False,ignore_index=True)[['Player','Sold Price']].head(5))"
   ]
  },
  {
   "cell_type": "code",
   "execution_count": null,
   "id": "7a75a6a5",
   "metadata": {},
   "outputs": [],
   "source": []
  }
 ],
 "metadata": {
  "kernelspec": {
   "display_name": "Python 3",
   "language": "python",
   "name": "python3"
  },
  "language_info": {
   "codemirror_mode": {
    "name": "ipython",
    "version": 3
   },
   "file_extension": ".py",
   "mimetype": "text/x-python",
   "name": "python",
   "nbconvert_exporter": "python",
   "pygments_lexer": "ipython3",
   "version": "3.9.5"
  }
 },
 "nbformat": 4,
 "nbformat_minor": 5
}
